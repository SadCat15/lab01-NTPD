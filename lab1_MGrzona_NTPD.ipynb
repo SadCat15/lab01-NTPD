{
 "cells": [
  {
   "metadata": {},
   "cell_type": "markdown",
   "source": [
    "### NTPD \n",
    "Michał Grzona 121356, grupa 3  \n",
    "GitHub: https://github.com/SadCat15/lab01-NTPD"
   ],
   "id": "1488039597fccdda"
  },
  {
   "metadata": {},
   "cell_type": "markdown",
   "source": "#### Zadanie 1: Przygotowanie środowiska i danych",
   "id": "305205e6290e96"
  },
  {
   "metadata": {
    "ExecuteTime": {
     "end_time": "2025-03-08T14:35:23.185925Z",
     "start_time": "2025-03-08T14:35:16.034455Z"
    }
   },
   "cell_type": "code",
   "source": [
    "import pandas as pd\n",
    "import numpy as np\n",
    "from sklearn.model_selection import train_test_split\n",
    "from sklearn.metrics import accuracy_score, precision_score, recall_score, f1_score\n",
    "from sklearn.datasets import load_iris\n",
    "from sklearn.linear_model import LogisticRegression\n",
    "import pickle"
   ],
   "id": "7fb3e366a020253b",
   "outputs": [],
   "execution_count": 3
  },
  {
   "metadata": {
    "ExecuteTime": {
     "end_time": "2025-03-08T14:36:29.733770Z",
     "start_time": "2025-03-08T14:36:29.712759Z"
    }
   },
   "cell_type": "code",
   "source": [
    "data = load_iris(as_frame=True)\n",
    "X = data[\"data\"]\n",
    "y = data[\"target\"]\n",
    "print(f\"Data:\\n{X.head()}\")\n",
    "print(f\"Labels:\\n{y.head()}\")"
   ],
   "id": "9bcf55b0362c8728",
   "outputs": [
    {
     "name": "stdout",
     "output_type": "stream",
     "text": [
      "Data:\n",
      "   sepal length (cm)  sepal width (cm)  petal length (cm)  petal width (cm)\n",
      "0                5.1               3.5                1.4               0.2\n",
      "1                4.9               3.0                1.4               0.2\n",
      "2                4.7               3.2                1.3               0.2\n",
      "3                4.6               3.1                1.5               0.2\n",
      "4                5.0               3.6                1.4               0.2\n",
      "Labels:\n",
      "0    0\n",
      "1    0\n",
      "2    0\n",
      "3    0\n",
      "4    0\n",
      "Name: target, dtype: int64\n"
     ]
    }
   ],
   "execution_count": 7
  },
  {
   "metadata": {},
   "cell_type": "markdown",
   "source": "Na zbiór irysów składa się 150 próbek 3 gatunków irysów, po 50 próbek na każdy gatunek. Cechy to długość i szerokość kielicha oraz długość i szerokość płatka kwaitu.",
   "id": "3b1888a892dbbb3b"
  },
  {
   "metadata": {},
   "cell_type": "markdown",
   "source": "#### Zadanie 2: Stworzenie prostego modelu ML (scikit-learn lub TensorFlow)",
   "id": "ac42edb9207faacc"
  },
  {
   "metadata": {
    "ExecuteTime": {
     "end_time": "2025-03-08T14:31:30.200598Z",
     "start_time": "2025-03-08T14:31:30.200598Z"
    }
   },
   "cell_type": "code",
   "source": [
    "X_train, X_test, y_train, y_test = train_test_split(X, y, test_size=0.3, random_state=42)\n",
    "model = LogisticRegression(max_iter=10000)"
   ],
   "id": "2cf7c07c70dfc186",
   "outputs": [],
   "execution_count": null
  },
  {
   "metadata": {
    "ExecuteTime": {
     "end_time": "2025-03-08T14:31:30.202606Z",
     "start_time": "2025-03-08T14:31:30.200598Z"
    }
   },
   "cell_type": "code",
   "source": "model.fit(X_train, y_train)",
   "id": "5cb69e2352667b13",
   "outputs": [],
   "execution_count": null
  },
  {
   "metadata": {},
   "cell_type": "code",
   "source": [
    "y_pred = model.predict(X_test)\n",
    "acc = accuracy_score(y_test, y_pred)\n",
    "precision = precision_score(y_test, y_pred, average='weighted')\n",
    "recall = recall_score(y_test, y_pred, average='weighted')\n",
    "f1 = f1_score(y_test, y_pred, average='weighted')\n",
    "\n",
    "print(f\"Accuracy: {acc * 100:.2f}%\")\n",
    "print(f\"Precision: {precision * 100:.2f}%\")\n",
    "print(f\"Recall: {recall * 100:.2f}%\")\n",
    "print(f\"f1: {f1 * 100:.2f}%\")"
   ],
   "id": "7d11422ed26449a9",
   "outputs": [],
   "execution_count": null
  },
  {
   "metadata": {},
   "cell_type": "markdown",
   "source": "#### Zadanie 3: Zapisanie i ładowanie modelu (pickle, joblib)",
   "id": "78cc392fb316ccd2"
  },
  {
   "metadata": {},
   "cell_type": "markdown",
   "source": [
    "### Polityka dotycząca wersjonowania modelu\n",
    "- <b>Nazwa:</b> <i>model_[wersja].pkl</i>\n",
    "- <b>Wersja:</b> Numer wersji składa się z trzech liczb oddzielonych kropkami - <i>X.Y.Z</i>. Pierwwsza (<i>X</i>) liczba powinna zostać zwiększona przy poprawieniu jakości modelu, drugą (<i>Y</i>) należy zwiększyć przy zmianie hiperparametrów, trzecią (<i>Z</i>) w przypadku zmiany zakresu danych. "
   ],
   "id": "2eaabc28ef03a839"
  },
  {
   "metadata": {},
   "cell_type": "code",
   "source": [
    "# zapisywanie modelu \n",
    "version: str = \"1.0.0\"\n",
    "\n",
    "with open(f\"model_{version}.pkl\", \"wb\") as f:\n",
    "    pickle.dump(model, f)\n",
    "    print(\"Model saved\")"
   ],
   "id": "c74a57713dfdf548",
   "outputs": [],
   "execution_count": null
  },
  {
   "metadata": {},
   "cell_type": "code",
   "source": "a",
   "id": "b70e1c5161e01312",
   "outputs": [],
   "execution_count": null
  }
 ],
 "metadata": {
  "kernelspec": {
   "display_name": "Python 3",
   "language": "python",
   "name": "python3"
  },
  "language_info": {
   "codemirror_mode": {
    "name": "ipython",
    "version": 2
   },
   "file_extension": ".py",
   "mimetype": "text/x-python",
   "name": "python",
   "nbconvert_exporter": "python",
   "pygments_lexer": "ipython2",
   "version": "2.7.6"
  }
 },
 "nbformat": 4,
 "nbformat_minor": 5
}
